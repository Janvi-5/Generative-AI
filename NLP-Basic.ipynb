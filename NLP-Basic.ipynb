{
 "cells": [
  {
   "cell_type": "code",
   "execution_count": 1,
   "id": "4856c4d8-0a28-4627-bea4-5240ed14e5b1",
   "metadata": {},
   "outputs": [
    {
     "name": "stdout",
     "output_type": "stream",
     "text": [
      "NLP stands for Natural Language Processing.\n"
     ]
    }
   ],
   "source": [
    "# 1. Print an f-string that displays NLP stands for Natural Language Processing using the variables provided.\n",
    "NLP = \"Natural Language Processing\"\n",
    "\n",
    "print(f\"NLP stands for {NLP}.\")"
   ]
  },
  {
   "cell_type": "code",
   "execution_count": 11,
   "id": "8dee62fb-8de0-472d-8b4b-e6e2b2d7a65b",
   "metadata": {},
   "outputs": [
    {
     "name": "stdout",
     "output_type": "stream",
     "text": [
      "contacts.txt\n"
     ]
    }
   ],
   "source": [
    "# 2. Create a file in the current working directory called contacts.txt by running the cell below.\n",
    "with open(\"contacts.txt\", \"w\") as file:\n",
    "    file.write(\"First Name, Last Name, Title, Email,\\n\")\n",
    "\n",
    "print(\"contacts.txt\") "
   ]
  },
  {
   "cell_type": "code",
   "execution_count": 9,
   "id": "e9d1a818-8d55-4e80-bbe3-1797d99d1cc8",
   "metadata": {},
   "outputs": [
    {
     "name": "stdout",
     "output_type": "stream",
     "text": [
      "First Name, Last Name, Title, Email,\n",
      "\n"
     ]
    }
   ],
   "source": [
    "# 3. Open the file and use .read() to save the contents of the file to a string called fields. Make sure the file is closed at the end.\n",
    "with open(\"contacts.txt\", \"r\") as file:\n",
    "    fields = file.read()\n",
    "print(fields)  "
   ]
  },
  {
   "cell_type": "code",
   "execution_count": 43,
   "id": "a2c8bd4d-63f2-43c2-8c9b-4a21725d2eb4",
   "metadata": {},
   "outputs": [
    {
     "name": "stdout",
     "output_type": "stream",
     "text": [
      "Requirement already satisfied: PyPDF2 in c:\\users\\janvi\\anaconda3\\lib\\site-packages (3.0.1)\n"
     ]
    }
   ],
   "source": [
    "# 4. Use PyPDF2 to open the file Business_Proposal.pdf. Extract the text of page 2.\n",
    "!pip install PyPDF2"
   ]
  },
  {
   "cell_type": "code",
   "execution_count": 21,
   "id": "afde1165-57f4-4a88-8caf-a41c0108ba95",
   "metadata": {},
   "outputs": [],
   "source": [
    "import PyPDF2"
   ]
  },
  {
   "cell_type": "code",
   "execution_count": 23,
   "id": "f7671c54-90f3-4756-90fa-66d6f0ca04cc",
   "metadata": {},
   "outputs": [],
   "source": [
    "f = open('Business_Proposal.pdf','rb')"
   ]
  },
  {
   "cell_type": "code",
   "execution_count": 25,
   "id": "7adb5174-3324-4e0b-9bf8-c8c40045fb7d",
   "metadata": {},
   "outputs": [],
   "source": [
    "pdf_reader = PyPDF2.PdfReader(f)"
   ]
  },
  {
   "cell_type": "code",
   "execution_count": 27,
   "id": "aefec4d9-3ce0-4d16-83cf-70958c4b4e29",
   "metadata": {},
   "outputs": [
    {
     "data": {
      "text/plain": [
       "2"
      ]
     },
     "execution_count": 27,
     "metadata": {},
     "output_type": "execute_result"
    }
   ],
   "source": [
    "len(pdf_reader.pages)"
   ]
  },
  {
   "cell_type": "code",
   "execution_count": 29,
   "id": "fd2d4a4c-ef24-4972-88fe-d94ab816cde8",
   "metadata": {},
   "outputs": [],
   "source": [
    "page_two = pdf_reader.pages[1]"
   ]
  },
  {
   "cell_type": "code",
   "execution_count": 31,
   "id": "554bfefd-5389-4a3e-97ed-744dec185b63",
   "metadata": {},
   "outputs": [],
   "source": [
    "page_two_text = page_two.extract_text()"
   ]
  },
  {
   "cell_type": "code",
   "execution_count": 33,
   "id": "a0cd3139-f11a-4c18-9fd0-62fc7dc526a6",
   "metadata": {},
   "outputs": [],
   "source": [
    "f.close()"
   ]
  },
  {
   "cell_type": "code",
   "execution_count": 35,
   "id": "5e0b0c9b-fc78-4ad5-bc2e-f117b5d3b2d4",
   "metadata": {},
   "outputs": [
    {
     "data": {
      "text/plain": [
       "'AUTHORS:  \\nAmy Baker, Finance Chair, x345, abaker@ourcompany.com  \\nChris Donaldson, Accounting Dir., x621, cdonaldson@ourcompany.com  \\nErin Freeman, Sr. VP, x879, efreeman@ourcompany.com  '"
      ]
     },
     "execution_count": 35,
     "metadata": {},
     "output_type": "execute_result"
    }
   ],
   "source": [
    "page_two_text"
   ]
  },
  {
   "cell_type": "code",
   "execution_count": 45,
   "id": "911f1f0d-c95f-45d1-9062-b4b8b4e27477",
   "metadata": {},
   "outputs": [
    {
     "name": "stdout",
     "output_type": "stream",
     "text": [
      "First Name, Last Name, Title, Email,\n",
      "\n",
      "\n",
      "Page 2 Text:\n",
      "AUTHORS:  \n",
      "Amy Baker, Finance Chair, x345, abaker@ourcompany.com  \n",
      "Chris Donaldson, Accounting Dir., x621, cdonaldson@ourcompany.com  \n",
      "Erin Freeman, Sr. VP, x879, efreeman@ourcompany.com  \n"
     ]
    }
   ],
   "source": [
    "# 5. Open the file contacts.txt in append mode. Add the text of page 2 from above to contacts.txt.\n",
    "with open(\"contacts.txt\", \"a+\") as c:\n",
    "    c.write(\"\\n\\nPage 2 Text:\\n\")  \n",
    "    c.write(page_two_text)  \n",
    "    c.seek(0)  \n",
    "    print(c.read()) "
   ]
  },
  {
   "cell_type": "code",
   "execution_count": 53,
   "id": "58672b0e-854b-4271-a603-eb6b918e7169",
   "metadata": {},
   "outputs": [
    {
     "name": "stdout",
     "output_type": "stream",
     "text": [
      "['abaker@ourcompany.com', 'cdonaldson@ourcompany.com', 'efreeman@ourcompany.com']\n"
     ]
    }
   ],
   "source": [
    "# 6. Using the page_two_text variable created above, extract any email addresses that were contained in the file Business_Proposal.pdf.\n",
    "import re \n",
    "emails = re.findall(r\"[a-zA-Z0-9._%+-]+@[a-zA-Z0-9.-]+\\.[a-zA-Z]{2,}\",page_two_text)\n",
    "print(emails)  "
   ]
  },
  {
   "cell_type": "code",
   "execution_count": null,
   "id": "95ccfac8-99a6-48f2-af10-d4558462faf2",
   "metadata": {},
   "outputs": [],
   "source": []
  }
 ],
 "metadata": {
  "kernelspec": {
   "display_name": "Python [conda env:base] *",
   "language": "python",
   "name": "conda-base-py"
  },
  "language_info": {
   "codemirror_mode": {
    "name": "ipython",
    "version": 3
   },
   "file_extension": ".py",
   "mimetype": "text/x-python",
   "name": "python",
   "nbconvert_exporter": "python",
   "pygments_lexer": "ipython3",
   "version": "3.12.7"
  }
 },
 "nbformat": 4,
 "nbformat_minor": 5
}
