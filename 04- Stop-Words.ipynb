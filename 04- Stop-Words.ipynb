{
 "cells": [
  {
   "cell_type": "code",
   "execution_count": 2,
   "id": "c8c41aa3-cd0d-48a4-9821-3307698bed51",
   "metadata": {},
   "outputs": [],
   "source": [
    "# Perform standard imports:\n",
    "import spacy\n",
    "nlp = spacy.load('en_core_web_sm')"
   ]
  },
  {
   "cell_type": "code",
   "execution_count": 4,
   "id": "20c9cecc-325c-4ab7-aecd-b4fe5151fc6f",
   "metadata": {
    "scrolled": true
   },
   "outputs": [
    {
     "name": "stdout",
     "output_type": "stream",
     "text": [
      "{'onto', 'within', 'well', 'an', 'noone', 'own', 'never', 'since', 'eight', 'whereupon', 'just', 'mostly', 'hereby', 'rather', 'it', 'thus', 'were', 'indeed', 'nobody', 'too', 'about', 'are', 'amount', 'made', 'whoever', 'first', 'how', 'nothing', 'twelve', 'across', 'whither', 'already', '’d', 'becomes', 'six', 'empty', 'beforehand', 'yet', 'formerly', 'can', 'did', 'several', 'from', 'others', '‘m', 'anyhow', 'herein', 'could', 'become', 'fifty', 'always', 'again', 'at', 'also', 'thru', 'anywhere', 'hence', 'afterwards', 'third', 'whereas', 'former', 'although', 'ten', 'seem', 'move', 'have', 'hereupon', 'whether', \"'re\", 'if', 'us', 'even', 'his', 'quite', 'someone', 'please', 'much', 'enough', 'same', 'due', 'eleven', 'regarding', 'among', 'full', 'everywhere', 'which', 'myself', \"'ll\", \"'s\", 'wherever', \"'m\", 'nowhere', 'towards', 'somehow', 'part', 'many', 'say', 'over', 'somewhere', 'my', 'toward', 'nor', 'anyone', 'yours', 'often', 'became', 'than', 'doing', 'what', 'during', 'whence', 'all', 'only', 'up', 'might', 'under', 'he', 'here', 'its', 'itself', 'upon', 'further', '‘d', 'next', 'per', 'thereafter', 'below', 'will', 'yourselves', 'ever', 'i', 'three', 'none', 'call', 'go', 'thereupon', 'using', 'every', 'put', 'into', 'nine', 'in', '‘s', 'thereby', 'then', 'to', 'show', 'not', 'after', 'a', 'everything', 'herself', 'get', 'me', 'yourself', 'however', 'sometimes', 'few', 'beyond', 'being', 'besides', 'sixty', 'still', 're', 'beside', 'throughout', \"n't\", 'out', 'himself', 'they', 'this', 'another', 'hereafter', 'was', 'something', 'two', 'seemed', '’re', 'we', 'moreover', 'been', 'perhaps', 'you', 'am', 'her', 'more', 'most', 'no', \"'d\", 'namely', 'whenever', 'name', 'once', 'without', 'anyway', 'around', 'used', 'very', 'twenty', 'n’t', 'neither', 'against', 'as', 'such', 'amongst', 'has', 'until', 'each', 'other', 'whose', 'see', 'fifteen', '’ll', 'almost', 'mine', 'why', 'alone', 'therefore', 'done', 'latter', 'because', 'four', 'themselves', 'would', 'meanwhile', 'him', 'latterly', 'keep', 'everyone', 'take', 'back', 'ourselves', 'bottom', 'becoming', 'last', 'their', 'any', 'seeming', 'some', 'though', 'who', 'anything', 'else', 'least', 'really', 'ours', '‘re', '‘ve', 'those', 'whereafter', 'by', 'whom', 'serious', 'whereby', 'hers', 'may', 'while', 'or', 'that', 'except', 'otherwise', 'various', 'of', \"'ve\", '’m', 'on', 'these', 'between', 'with', 'wherein', 'less', 'the', 'do', '’ve', 'be', 'down', 'thence', 'n‘t', 'together', 'but', 'had', 'whatever', 'both', 'side', 'your', 'seems', 'above', 'sometime', 'where', 'give', 'cannot', 'through', 'before', 'top', 'does', 'our', 'nevertheless', 'behind', 'off', 'them', 'she', 'elsewhere', '’s', 'there', 'make', 'therein', 'is', 'now', 'one', 'forty', 'for', 'unless', 'and', '‘ll', 'so', 'five', 'must', 'along', 'via', 'should', 'front', 'when', 'whole', 'either', 'ca', 'hundred'}\n"
     ]
    }
   ],
   "source": [
    "# print the set of sapcy's default stop words (remmember that sets are unordered)\n",
    "print(nlp.Defaults.stop_words)"
   ]
  },
  {
   "cell_type": "code",
   "execution_count": 5,
   "id": "d787fa8a-1035-4ac8-bd4d-50b5b905546e",
   "metadata": {},
   "outputs": [
    {
     "data": {
      "text/plain": [
       "326"
      ]
     },
     "execution_count": 5,
     "metadata": {},
     "output_type": "execute_result"
    }
   ],
   "source": [
    "len(nlp.Defaults.stop_words)"
   ]
  },
  {
   "cell_type": "code",
   "execution_count": 8,
   "id": "5cb5951f-9508-4fe6-9e48-fc9b03f54c68",
   "metadata": {},
   "outputs": [
    {
     "data": {
      "text/plain": [
       "True"
      ]
     },
     "execution_count": 8,
     "metadata": {},
     "output_type": "execute_result"
    }
   ],
   "source": [
    "# To see if a word is a stop word\n",
    "nlp.vocab['myself'].is_stop"
   ]
  },
  {
   "cell_type": "code",
   "execution_count": 9,
   "id": "a4666c45-deaa-4417-a63c-7922dfb44c3a",
   "metadata": {},
   "outputs": [
    {
     "data": {
      "text/plain": [
       "False"
      ]
     },
     "execution_count": 9,
     "metadata": {},
     "output_type": "execute_result"
    }
   ],
   "source": [
    "nlp.vocab['mystery'].is_stop"
   ]
  },
  {
   "cell_type": "code",
   "execution_count": 12,
   "id": "4264ecfe-dd0a-464d-b581-7c8825c4ce2d",
   "metadata": {},
   "outputs": [],
   "source": [
    "# Add the word to the set of stop words. Use Lowercase!\n",
    "nlp.Defaults.stop_words.add('btw')\n",
    "\n",
    "# Set the stop_word tag on the lexeme\n",
    "nlp.vocab['btw'].is_stop = True"
   ]
  },
  {
   "cell_type": "code",
   "execution_count": 14,
   "id": "d520c49e-1624-4cb7-891c-99768157c698",
   "metadata": {},
   "outputs": [
    {
     "data": {
      "text/plain": [
       "327"
      ]
     },
     "execution_count": 14,
     "metadata": {},
     "output_type": "execute_result"
    }
   ],
   "source": [
    "len(nlp.Defaults.stop_words)"
   ]
  },
  {
   "cell_type": "code",
   "execution_count": 15,
   "id": "509d2fe6-04de-4647-8d93-4c62d113bb4b",
   "metadata": {},
   "outputs": [
    {
     "data": {
      "text/plain": [
       "True"
      ]
     },
     "execution_count": 15,
     "metadata": {},
     "output_type": "execute_result"
    }
   ],
   "source": [
    "nlp.vocab['btw'].is_stop"
   ]
  },
  {
   "cell_type": "code",
   "execution_count": 16,
   "id": "5ce11251-a272-475e-bbbe-278ff4fa8280",
   "metadata": {},
   "outputs": [],
   "source": [
    "# Remove the word from the set of stop words\n",
    "nlp.Defaults.stop_words.remove('beyond')\n",
    "\n",
    "# Remove the stop_word tag from the lexeme\n",
    "nlp.vocab['beyond'].is_stop = False"
   ]
  },
  {
   "cell_type": "code",
   "execution_count": 17,
   "id": "8f60f90f-43de-4250-b558-3e91814eecd8",
   "metadata": {},
   "outputs": [
    {
     "data": {
      "text/plain": [
       "326"
      ]
     },
     "execution_count": 17,
     "metadata": {},
     "output_type": "execute_result"
    }
   ],
   "source": [
    "len(nlp.Defaults.stop_words)"
   ]
  },
  {
   "cell_type": "code",
   "execution_count": 18,
   "id": "06e68973-d889-4481-be8d-29ef45263237",
   "metadata": {},
   "outputs": [
    {
     "data": {
      "text/plain": [
       "False"
      ]
     },
     "execution_count": 18,
     "metadata": {},
     "output_type": "execute_result"
    }
   ],
   "source": [
    "nlp.vocab['beyond'].is_stop"
   ]
  },
  {
   "cell_type": "code",
   "execution_count": null,
   "id": "66ece399-3221-4435-b27e-0a0c0e8fec4c",
   "metadata": {},
   "outputs": [],
   "source": []
  }
 ],
 "metadata": {
  "kernelspec": {
   "display_name": "Python 3 (ipykernel)",
   "language": "python",
   "name": "python3"
  },
  "language_info": {
   "codemirror_mode": {
    "name": "ipython",
    "version": 3
   },
   "file_extension": ".py",
   "mimetype": "text/x-python",
   "name": "python",
   "nbconvert_exporter": "python",
   "pygments_lexer": "ipython3",
   "version": "3.9.21"
  }
 },
 "nbformat": 4,
 "nbformat_minor": 5
}
